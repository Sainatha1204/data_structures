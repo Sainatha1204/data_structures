{
 "cells": [
  {
   "cell_type": "markdown",
   "metadata": {},
   "source": [
    "Assignments: Data\n",
    "Structures in Python"
   ]
  },
  {
   "cell_type": "markdown",
   "metadata": {},
   "source": [
    "1. Write a code to reverse a string."
   ]
  },
  {
   "cell_type": "code",
   "execution_count": 13,
   "metadata": {},
   "outputs": [
    {
     "name": "stdout",
     "output_type": "stream",
     "text": [
      "ahtaniaS\n"
     ]
    }
   ],
   "source": [
    "def reve_str(a):\n",
    "    a=list(a)\n",
    "    k=len(a)-1\n",
    "    for i in range(int(len(a)/2)):\n",
    "        a[i],a[k]=a[k],a[i]\n",
    "        k=k-1\n",
    "    return ''.join(a)\n",
    "string=\"Sainatha\"\n",
    "print(reve_str(string))\n"
   ]
  },
  {
   "cell_type": "markdown",
   "metadata": {},
   "source": [
    "2. Write a code to count the number of vowels in a string."
   ]
  },
  {
   "cell_type": "code",
   "execution_count": 17,
   "metadata": {},
   "outputs": [
    {
     "name": "stdout",
     "output_type": "stream",
     "text": [
      "number of vowels are in sainatha  are  4\n"
     ]
    }
   ],
   "source": [
    "def vowels(a):\n",
    "    count=0\n",
    "    for i in a:\n",
    "        if i in ['a','e','i','o','u']:\n",
    "            count=count+1\n",
    "    return count\n",
    "vow='sainatha'\n",
    "print(f\"number of vowels are in {vow}  are \",vowels(vow))\n",
    "            "
   ]
  },
  {
   "cell_type": "markdown",
   "metadata": {},
   "source": [
    "3. Write a code to check if a given string is a palindrome or not."
   ]
  },
  {
   "cell_type": "code",
   "execution_count": 21,
   "metadata": {},
   "outputs": [
    {
     "name": "stdout",
     "output_type": "stream",
     "text": [
      "sainatha is not a palindrome\n",
      "madam is is a palindrome\n"
     ]
    }
   ],
   "source": [
    "def palin(a):\n",
    "    a = a.replace(\" \", \"\").lower()\n",
    "    k=len(a)-1\n",
    "    for i in range(len(a)//2):\n",
    "        if a[i]!=a[k]:\n",
    "            return \"not a palindrome\"\n",
    "        k=k-1\n",
    "    return \"is a palindrome\"\n",
    "k=\"sainatha\"\n",
    "print(f\"{k} is {palin(k)}\")\n",
    "j=\"madam\"\n",
    "print(f\"{j} is {palin(j)}\")\n",
    "        "
   ]
  },
  {
   "cell_type": "markdown",
   "metadata": {},
   "source": [
    "4. Write a code to check if two given strings are anagrams of each other."
   ]
  },
  {
   "cell_type": "code",
   "execution_count": 38,
   "metadata": {},
   "outputs": [
    {
     "name": "stdout",
     "output_type": "stream",
     "text": [
      "ate and eat are  anagrams\n",
      "None\n"
     ]
    }
   ],
   "source": [
    "def anagram_check(a,b):\n",
    "    k=a\n",
    "    l=b\n",
    "    a=sorted(a.lower())\n",
    "    b=sorted(b.lower())\n",
    "    if len(a)!=len(b):\n",
    "        print(f\"{k} and {l} are not anagrams\")\n",
    "        return\n",
    "    for i in range(len(a)):\n",
    "        if(a[i]!=b[i]):\n",
    "             print(f\"{k} and {l} are not anagrams\")\n",
    "             return\n",
    "    print(f\"{k} and {l} are  anagrams\")\n",
    "    return\n",
    "a=\"ate\"\n",
    "b=\"eat\"\n",
    "print(anagram_check(a,b))"
   ]
  },
  {
   "cell_type": "markdown",
   "metadata": {},
   "source": [
    "5. Write a code to find all occurrences of a given substring within another string."
   ]
  },
  {
   "cell_type": "code",
   "execution_count": 44,
   "metadata": {},
   "outputs": [
    {
     "name": "stdout",
     "output_type": "stream",
     "text": [
      "[0, 4]\n"
     ]
    }
   ],
   "source": [
    "def find_occ(a,b):\n",
    "    k=len(b)\n",
    "    count=[]\n",
    "    for i in range(len(a)-k+1):\n",
    "        if a[i:i+k]==b:\n",
    "            count.append(i)\n",
    "    return count\n",
    "print(find_occ(\"aabbaacc\",\"aa\"))\n",
    "        "
   ]
  },
  {
   "cell_type": "markdown",
   "metadata": {},
   "source": [
    "6. Write a code to perform basic string compression using the counts of repeated characters."
   ]
  },
  {
   "cell_type": "code",
   "execution_count": 60,
   "metadata": {},
   "outputs": [
    {
     "name": "stdout",
     "output_type": "stream",
     "text": [
      "a7b9c8\n"
     ]
    }
   ],
   "source": [
    "def comp_str(a):\n",
    "    ans=[]\n",
    "    count=1\n",
    "    for i in range(len(a)-1):\n",
    "        if a[i]==a[i+1]:\n",
    "            count+=1\n",
    "        else:\n",
    "            ans.append(a[i])\n",
    "            ans.append(str(count))\n",
    "            count=1\n",
    "    ans.append(a[i])\n",
    "    ans.append(str(count))\n",
    "    comp1=\"\".join(ans)\n",
    "    if len(comp1)<len(a):\n",
    "        return comp1\n",
    "    else:\n",
    "        return a\n",
    "print(comp_str(\"aaaaaaabbbbbbbbbcccccccc\"))\n",
    "    \n",
    "        \n"
   ]
  },
  {
   "cell_type": "markdown",
   "metadata": {},
   "source": [
    "7. Write a code to determine if a string has all unique characters."
   ]
  },
  {
   "cell_type": "code",
   "execution_count": 64,
   "metadata": {},
   "outputs": [
    {
     "name": "stdout",
     "output_type": "stream",
     "text": [
      "string catsdogs not have all unique characters\n",
      "string sainatha not have all unique characters\n"
     ]
    }
   ],
   "source": [
    "def unique(a):\n",
    "    a=a.lower()\n",
    "    if len(a)==len(set(a)):\n",
    "        return f\"string {a} have all unique characters\"\n",
    "    else:\n",
    "        return f\"string {a} not have all unique characters\"\n",
    "print(unique(\"catsdogs\"))\n",
    "print(unique(\"sainatha\"))\n",
    "        \n",
    "    "
   ]
  },
  {
   "cell_type": "markdown",
   "metadata": {},
   "source": [
    "8. Write a code to convert a given string to uppercase or lowercase."
   ]
  },
  {
   "cell_type": "code",
   "execution_count": 69,
   "metadata": {},
   "outputs": [
    {
     "name": "stdout",
     "output_type": "stream",
     "text": [
      "lowe case of string is sainatha\n",
      "uppercase of string is SAINATHA\n"
     ]
    }
   ],
   "source": [
    "def case_Change(a):\n",
    "    print(f\"lowe case of string is {a.lower()}\")\n",
    "    return f\"uppercase of string is {a.upper()}\"\n",
    "    \n",
    "print(case_Change(\"SainaTHa\"))"
   ]
  },
  {
   "cell_type": "markdown",
   "metadata": {},
   "source": [
    "9. Write a code to count the number of words in a string."
   ]
  },
  {
   "cell_type": "code",
   "execution_count": 75,
   "metadata": {},
   "outputs": [
    {
     "name": "stdout",
     "output_type": "stream",
     "text": [
      "Number of words: 5\n"
     ]
    }
   ],
   "source": [
    "def count_words(a):\n",
    "    words = a.split()\n",
    "    return len(words)\n",
    "a = \"hello, this is rudra sainatha\"\n",
    "ans = count_words(a)\n",
    "\n",
    "print(\"Number of words:\", ans)\n"
   ]
  },
  {
   "cell_type": "markdown",
   "metadata": {},
   "source": [
    "10.write a program to concatenate two strings using + operator"
   ]
  },
  {
   "cell_type": "code",
   "execution_count": 46,
   "metadata": {},
   "outputs": [
    {
     "name": "stdout",
     "output_type": "stream",
     "text": [
      "HelloWorld\n"
     ]
    }
   ],
   "source": [
    "def concatenate_strings(str1, str2):\n",
    "    return ''.join([str1, str2])\n",
    "\n",
    "string1 = \"Hello\"\n",
    "string2 = \"World\"\n",
    "\n",
    "result = concatenate_strings(string1, string2)\n",
    "print(result)\n"
   ]
  },
  {
   "cell_type": "markdown",
   "metadata": {},
   "source": [
    "11. Write a code to remove all occurrences of a specific element from a list."
   ]
  },
  {
   "cell_type": "code",
   "execution_count": 82,
   "metadata": {},
   "outputs": [
    {
     "name": "stdout",
     "output_type": "stream",
     "text": [
      "removd occuarnces of ['s', 'a', 1, 'a', 2, 'k', 'j', 'a'] is ['s', 1, 2, 'k', 'j']\n"
     ]
    }
   ],
   "source": [
    "def remove_occurance(a,k):\n",
    "    ans=[item for item in a if item!=k]\n",
    "    return ans\n",
    "list1=['s','a',1,'a',2,'k','j','a']\n",
    "print(f\"removd occuarnces of {list1} is {remove_occurance(list1,'a')}\")"
   ]
  },
  {
   "cell_type": "markdown",
   "metadata": {},
   "source": [
    "\n",
    "12. Implement a code to find the second largest number in a given list of integers."
   ]
  },
  {
   "cell_type": "code",
   "execution_count": 83,
   "metadata": {},
   "outputs": [
    {
     "name": "stdout",
     "output_type": "stream",
     "text": [
      "second largest is 76\n"
     ]
    }
   ],
   "source": [
    "def sec_largest(l):\n",
    "    k=sorted(l)\n",
    "    return k[len(k)-2]\n",
    "list1=[1,22,76,98,10]\n",
    "print(\"second largest is\",sec_largest(list1))"
   ]
  },
  {
   "cell_type": "markdown",
   "metadata": {},
   "source": [
    "13. Create a code to count the occurrences of each element in a list and return a dictionary with elements as keys and their counts as values."
   ]
  },
  {
   "cell_type": "code",
   "execution_count": 84,
   "metadata": {},
   "outputs": [
    {
     "data": {
      "text/plain": [
       "Counter({1: 5, 2: 3, 3: 3, 4: 2, 5: 1})"
      ]
     },
     "execution_count": 84,
     "metadata": {},
     "output_type": "execute_result"
    }
   ],
   "source": [
    "from collections import Counter\n",
    "list1=[1,2,1,2,1,1,3,2,1,3,4,4,3,5]\n",
    "Counter(list1)"
   ]
  },
  {
   "cell_type": "markdown",
   "metadata": {},
   "source": [
    "14. Write a code to reverse a list in-place without using any built-in reverse functions."
   ]
  },
  {
   "cell_type": "code",
   "execution_count": 89,
   "metadata": {},
   "outputs": [
    {
     "name": "stdout",
     "output_type": "stream",
     "text": [
      "[5, 4, 3, 2, 1]\n"
     ]
    }
   ],
   "source": [
    "def reve_list(l):\n",
    "    k=len(l)-1\n",
    "    for i in range(len(l)//2):\n",
    "        l[i],l[k]=l[k],l[i]\n",
    "        k=k-1\n",
    "    return l\n",
    "list1=[1,2,3,4,5]\n",
    "print(reve_list(list1))"
   ]
  },
  {
   "cell_type": "markdown",
   "metadata": {},
   "source": [
    "15. Implement a code to find and remove duplicates from a list while preserving the original order of\n",
    "elements."
   ]
  },
  {
   "cell_type": "code",
   "execution_count": 92,
   "metadata": {},
   "outputs": [
    {
     "name": "stdout",
     "output_type": "stream",
     "text": [
      "[5, 1, 2, 3, 4]\n"
     ]
    }
   ],
   "source": [
    "def remove_dup(l):\n",
    "    new_list=[]\n",
    "    new_list.append(l[0])\n",
    "    for i in range(1,len(l)):\n",
    "        if l[i] not in new_list:\n",
    "            new_list.append(l[i])\n",
    "    return new_list\n",
    "l=[5,1,2,3,1,4,5,1,2]\n",
    "print(remove_dup(l))\n",
    "\n",
    "    "
   ]
  },
  {
   "cell_type": "markdown",
   "metadata": {},
   "source": [
    "16. Create a code to check if a given list is sorted (either in ascending or descending order) or not."
   ]
  },
  {
   "cell_type": "code",
   "execution_count": 98,
   "metadata": {},
   "outputs": [
    {
     "name": "stdout",
     "output_type": "stream",
     "text": [
      "list is not sorted\n",
      "list is sorted\n"
     ]
    }
   ],
   "source": [
    "def check_sort(l):\n",
    "    if l==sorted(l) or l==sorted(l,reverse=True):\n",
    "        return \"list is sorted\"\n",
    "    return \"list is not sorted\"\n",
    "l1=[1,24,2,0,4]\n",
    "print(check_sort(l1))\n",
    "l2=[0,1,2,3,4]\n",
    "print(check_sort(l2))\n",
    "\n"
   ]
  },
  {
   "cell_type": "markdown",
   "metadata": {},
   "source": [
    "17. Write a code to merge two sorted lists into a single sorted list."
   ]
  },
  {
   "cell_type": "code",
   "execution_count": 101,
   "metadata": {},
   "outputs": [
    {
     "name": "stdout",
     "output_type": "stream",
     "text": [
      "[1, 2, 2, 3, 4, 4, 5, 5, 7, 8]\n"
     ]
    }
   ],
   "source": [
    "def merge_sorted_list(l1,l2):\n",
    "    i=0\n",
    "    j=0\n",
    "    merged_list=[]\n",
    "    while i<len(l1) and j<len(l2):\n",
    "        if l1[i]<l2[j]:\n",
    "            merged_list.append(l1[i])\n",
    "            i=i+1\n",
    "        else:\n",
    "            merged_list.append(l2[j])\n",
    "            j=j+1\n",
    "    while i<len(l1):\n",
    "        merged_list.append(l1[i])\n",
    "        i=i+1\n",
    "    while j<len(l2):\n",
    "        merged_list.append(l2[j])\n",
    "        j=j+1\n",
    "    return merged_list\n",
    "l1=[1,2,3,4,5]\n",
    "l2=[2,4,5,7,8]\n",
    "print(merge_sorted_list(l1,l2))\n",
    "        \n",
    "            "
   ]
  },
  {
   "cell_type": "markdown",
   "metadata": {},
   "source": [
    "18. Implement a code to find the intersection of two given lists."
   ]
  },
  {
   "cell_type": "code",
   "execution_count": 106,
   "metadata": {},
   "outputs": [
    {
     "name": "stdout",
     "output_type": "stream",
     "text": [
      "[5, 5, 6]\n"
     ]
    }
   ],
   "source": [
    "def intersection_list(l1,l2):\n",
    "  ans=[item for item in l1 if item in l2]\n",
    "  return ans\n",
    "l1=[1,3,5,5,6]\n",
    "l2=[5,6,7,8]\n",
    "print(intersection_list(l1,l2))\n"
   ]
  },
  {
   "cell_type": "markdown",
   "metadata": {},
   "source": [
    "19. Create a code to find the union of two lists without duplicates."
   ]
  },
  {
   "cell_type": "code",
   "execution_count": 107,
   "metadata": {},
   "outputs": [
    {
     "name": "stdout",
     "output_type": "stream",
     "text": [
      "[1, 3, 5, 6, 7, 8]\n"
     ]
    }
   ],
   "source": [
    "def union(l1,l2):\n",
    "    k=set(l1)|set(l2)\n",
    "    ans=list(k)\n",
    "    return ans\n",
    "l1=[1,3,5,5,6]\n",
    "l2=[5,6,7,8]\n",
    "print(union(l1,l2))"
   ]
  },
  {
   "cell_type": "markdown",
   "metadata": {},
   "source": [
    "20. Write a code to shuffle a given list randomly without using any built-in shuffle functions."
   ]
  },
  {
   "cell_type": "code",
   "execution_count": 120,
   "metadata": {},
   "outputs": [
    {
     "name": "stdout",
     "output_type": "stream",
     "text": [
      "[6, 1, 5, 8, 3, 2, 7, 4, 9]\n"
     ]
    }
   ],
   "source": [
    "import random\n",
    "\n",
    "def shuffle_list(l1):\n",
    "    n = len(l1)\n",
    "    for i in range(n-1, 0, -1):\n",
    "        j = random.randint(0, i)\n",
    "        l1[i], l1[j] = l1[j], l1[i]\n",
    "    return l1\n",
    "\n",
    "\n",
    "l1 = [1, 2, 3, 4, 5, 6, 7, 8, 9]\n",
    "\n",
    "print(shuffle_list(l1))\n"
   ]
  },
  {
   "cell_type": "markdown",
   "metadata": {},
   "source": [
    "21. Write a code that takes two tuples as input and returns a new tuple containing elements that are common to both input tuples."
   ]
  },
  {
   "cell_type": "code",
   "execution_count": 131,
   "metadata": {},
   "outputs": [
    {
     "name": "stdout",
     "output_type": "stream",
     "text": [
      "('1', '2', '3', '4')\n",
      "('3', '4', '5', '6')\n",
      "common elemnts ('3', '4')\n"
     ]
    }
   ],
   "source": [
    "def tup_intersection(t1,t2):\n",
    "    new_tup=tuple(item for item in t1 if item in t2)\n",
    "    return new_tup\n",
    "    \n",
    "\n",
    "tu1=input(\"enter tup1 with comma sepearted like 1,2,3\")\n",
    "t1=tuple(tu1.split(','))\n",
    "print(t1)\n",
    "tu2=input(\"enter tup1 with comma sepearted like 1,2,3\")\n",
    "t2=tuple(tu2.split(','))\n",
    "print(t2)\n",
    "print(\"common elemnts\",tup_intersection(t1,t2))\n",
    "\n",
    "\n"
   ]
  },
  {
   "cell_type": "markdown",
   "metadata": {},
   "source": [
    "22.Create a code that prompts the user to enter two sets of integers separated by commas. Then, print the intersection of these two sets."
   ]
  },
  {
   "cell_type": "code",
   "execution_count": 3,
   "metadata": {},
   "outputs": [
    {
     "name": "stdout",
     "output_type": "stream",
     "text": [
      "set1 is {1, 2, 3, 4, 5}\n",
      "set2 is {3, 4, 5, 6, 7}\n",
      "The intersection of the two sets is: {3, 4, 5}\n"
     ]
    }
   ],
   "source": [
    "set1 = input(\"Enter the first set of integers separated by commas: \")\n",
    "set2 = input(\"Enter the second set of integers separated by commas: \")\n",
    "\n",
    "set1 = {int(num) for num in set1.split(',')}\n",
    "print(f\"set1 is {set1}\")\n",
    "set2 = {int(num) for num in set2.split(',')}\n",
    "print(f\"set2 is {set2}\")\n",
    "intersection = set1 & set2\n",
    "print(\"The intersection of the two sets is:\", intersection)\n"
   ]
  },
  {
   "cell_type": "markdown",
   "metadata": {},
   "source": [
    "23. Write a code to concatenate two tuples. The function should take two tuples as input and return a new tuple containing elements from both input tuples."
   ]
  },
  {
   "cell_type": "code",
   "execution_count": 6,
   "metadata": {},
   "outputs": [
    {
     "name": "stdout",
     "output_type": "stream",
     "text": [
      "(1, 2, 3, 4, 4, 5, 6)\n"
     ]
    }
   ],
   "source": [
    "def concatenate_tuples(t1, t2):\n",
    "    return t1 + t2\n",
    "t1 = (1, 2, 3,4)\n",
    "t2 = (4, 5, 6)\n",
    "result = concatenate_tuples(t1, t2)\n",
    "print(result)\n"
   ]
  },
  {
   "cell_type": "markdown",
   "metadata": {},
   "source": [
    "24. Develop a code that prompts the user to input two sets of strings. Then, print the elements that are present in the first set but not in the second set"
   ]
  },
  {
   "cell_type": "code",
   "execution_count": 9,
   "metadata": {},
   "outputs": [
    {
     "name": "stdout",
     "output_type": "stream",
     "text": [
      "{'natha', 'sai', 'rudra'}\n",
      "{'kumar', 'ravi', 'rudra'}\n",
      "elements present in set1 but not in set2 {'natha', 'sai'}\n"
     ]
    }
   ],
   "source": [
    "str1 = input(\"Enter the first str of integers separated by commas: \")\n",
    "str2 = input(\"Enter the second str of integers separated by commas: \")\n",
    "\n",
    "set1={cha for cha in str1.split()}\n",
    "print(set1)\n",
    "set2={cha for cha in str2.split()}\n",
    "print(set2)\n",
    "\n",
    "print(\"elements present in set1 but not in set2\",set1-set2)\n"
   ]
  },
  {
   "cell_type": "markdown",
   "metadata": {},
   "source": [
    "25. Create a code that takes a tuple and two integers as input. The function should return a new tuple containing elements from the original tuple within the specified range of indices."
   ]
  },
  {
   "cell_type": "code",
   "execution_count": 20,
   "metadata": {},
   "outputs": [
    {
     "name": "stdout",
     "output_type": "stream",
     "text": [
      "('2', '3', '4')\n"
     ]
    }
   ],
   "source": [
    "def tup_range(t1, k, l):\n",
    "    return t1[k:l+1]\n",
    "\n",
    "t1 = input(\"Enter a tuple with commas (e.g., 1,2,3): \")\n",
    "t1 = tuple(char for char in t1.split(','))\n",
    "\n",
    "k = int(input(\"Lower index: \"))\n",
    "l = int(input(\"Upper index: \"))\n",
    "\n",
    "print(tup_range(t1, k, l))\n"
   ]
  },
  {
   "cell_type": "markdown",
   "metadata": {},
   "source": [
    "26. Write a code that prompts the user to input two sets of characters. Then, print the union of these two sets."
   ]
  },
  {
   "cell_type": "code",
   "execution_count": 22,
   "metadata": {},
   "outputs": [
    {
     "name": "stdout",
     "output_type": "stream",
     "text": [
      "{'3', '1', '2', '5', '4'}\n",
      "{'6', '7', '8', '5', '4'}\n",
      "union of set1 and set2 {'3', '1', '6', '7', '2', '8', '5', '4'}\n"
     ]
    }
   ],
   "source": [
    "str1 = input(\"Enter the first str of integers separated by commas: \")\n",
    "str2 = input(\"Enter the second str of integers separated by commas: \")\n",
    "\n",
    "set1={cha for cha in str1.split(',')}\n",
    "print(set1)\n",
    "set2={cha for cha in str2.split(',')}\n",
    "print(set2)\n",
    "\n",
    "print(\"union of set1 and set2\",set1|set2)"
   ]
  },
  {
   "cell_type": "markdown",
   "metadata": {},
   "source": [
    "27. Develop a code that takes a tuple of integers as input. The function should return the maximum and minimum values from the tuple using tuple unpacking."
   ]
  },
  {
   "cell_type": "code",
   "execution_count": 24,
   "metadata": {},
   "outputs": [
    {
     "name": "stdout",
     "output_type": "stream",
     "text": [
      "tuple is (1, 3, 5, 12, 9)\n",
      "Maximum value: 12\n",
      "Minimum value: 1\n"
     ]
    }
   ],
   "source": [
    "def max_min_tuple(t):\n",
    "    max_val = max(t)\n",
    "    min_val = min(t)\n",
    "    return max_val, min_val\n",
    "\n",
    "t = tuple(int(num) for num in input(\"Enter a tuple of integers separated by commas: \").split(','))\n",
    "max_val, min_val = max_min_tuple(t)\n",
    "print(f\"tuple is {t}\")\n",
    "\n",
    "print(f\"Maximum value: {max_val}\")\n",
    "print(f\"Minimum value: {min_val}\")\n"
   ]
  },
  {
   "cell_type": "markdown",
   "metadata": {},
   "source": [
    "28. Create a code that defines two sets of integers. Then, print the union, intersection, and difference of these two sets."
   ]
  },
  {
   "cell_type": "code",
   "execution_count": 25,
   "metadata": {},
   "outputs": [
    {
     "name": "stdout",
     "output_type": "stream",
     "text": [
      "{'3', '1', '2', '5', '4'}\n",
      "{'6', '7', '8', '5', '4'}\n",
      "union of set1 and set2 {'3', '1', '6', '7', '2', '8', '5', '4'}\n",
      "intersection of set1 and set2 {'5', '4'}\n",
      "difference of set1 and set2 {'3', '1', '2'}\n"
     ]
    }
   ],
   "source": [
    "str1 = input(\"Enter the first str of integers separated by commas: \")\n",
    "str2 = input(\"Enter the second str of integers separated by commas: \")\n",
    "\n",
    "set1={cha for cha in str1.split(',')}\n",
    "print(set1)\n",
    "set2={cha for cha in str2.split(',')}\n",
    "print(set2)\n",
    "\n",
    "print(\"union of set1 and set2\",set1|set2)\n",
    "print(\"intersection of set1 and set2\",set1&set2)\n",
    "print(\"difference of set1 and set2\",set1-set2)\n",
    "\n"
   ]
  },
  {
   "cell_type": "markdown",
   "metadata": {},
   "source": [
    "29. Write a code that takes a tuple and an element as input. The function should return the count of occurrences of the given element in the tuple."
   ]
  },
  {
   "cell_type": "code",
   "execution_count": 27,
   "metadata": {},
   "outputs": [
    {
     "name": "stdout",
     "output_type": "stream",
     "text": [
      "tuple is ('s', 'a', 'i', 'n', 'a', 't', 'h', 'a')\n",
      "elemnt occurance a\n",
      "3\n"
     ]
    }
   ],
   "source": [
    "def count_occurrences(t, element):\n",
    "    return t.count(element)\n",
    "\n",
    "t = tuple(input(\"Enter a tuple of elements separated by commas: \").split(','))\n",
    "element = input(\"Enter the element to count: \")\n",
    "print(f\"tuple is {t}\")\n",
    "print(f\"elemnt occurance {element}\")\n",
    "print(count_occurrences(t, element))\n"
   ]
  },
  {
   "cell_type": "markdown",
   "metadata": {},
   "source": [
    "30. Develop a code that prompts the user to input two sets of strings. Then, print the symmetric difference of these two sets."
   ]
  },
  {
   "cell_type": "code",
   "execution_count": 29,
   "metadata": {},
   "outputs": [
    {
     "name": "stdout",
     "output_type": "stream",
     "text": [
      "set1 is{'3', '1', '2', '5', '4'}\n",
      "set2 is{'3', '6', '7', '5', '4'}\n",
      "The symmetric difference of the two sets is: {'7', '2', '6', '1'}\n"
     ]
    }
   ],
   "source": [
    "set1_input = input(\"Enter the first set of strings separated by commas: \")\n",
    "set2_input = input(\"Enter the second set of strings separated by commas: \")\n",
    "\n",
    "set1 = set(set1_input.split(','))\n",
    "print(f\"set1 is{set1}\")\n",
    "set2 = set(set2_input.split(','))\n",
    "print(f\"set2 is{set2}\")\n",
    "\n",
    "\n",
    "symmetric_difference = set1 ^ set2\n",
    "\n",
    "print(\"The symmetric difference of the two sets is:\", symmetric_difference)\n"
   ]
  },
  {
   "cell_type": "markdown",
   "metadata": {},
   "source": [
    "31. Write a code that takes a list of words as input and returns a dictionary where the keys are unique words and the values are the frequencies of those words in the input list."
   ]
  },
  {
   "cell_type": "code",
   "execution_count": 30,
   "metadata": {},
   "outputs": [
    {
     "name": "stdout",
     "output_type": "stream",
     "text": [
      "{'sai': 2, 'natha': 2, 'rudra': 1, 'nitc': 1, 'calicut': 1, 'nit': 1}\n"
     ]
    }
   ],
   "source": [
    "def word_frequencies(words):\n",
    "    frequency = {}\n",
    "    for word in words:\n",
    "        if word in frequency:\n",
    "            frequency[word] += 1\n",
    "        else:\n",
    "            frequency[word] = 1\n",
    "    return frequency\n",
    "\n",
    "words = input(\"Enter a list of words separated by commas: \").split(',')\n",
    "word_freq = word_frequencies(words)\n",
    "\n",
    "print(word_freq)\n"
   ]
  },
  {
   "cell_type": "markdown",
   "metadata": {},
   "source": [
    "32. Write a code that takes two dictionaries as input and merges them into a single dictionary. If there are common keys, the values should be added together"
   ]
  },
  {
   "cell_type": "code",
   "execution_count": 37,
   "metadata": {},
   "outputs": [
    {
     "name": "stdout",
     "output_type": "stream",
     "text": [
      "dic1 is{1: 2, 3: 4, 5: 6}\n",
      "dic2 is{2: 4, 3: 9, 7: 8}\n",
      "{1: 2, 3: 13, 5: 6, 2: 4, 7: 8}\n"
     ]
    }
   ],
   "source": [
    "def merge_dicts(dict1, dict2):\n",
    "    merged = dict1.copy()\n",
    "    for key, value in dict2.items():\n",
    "        if key in merged:\n",
    "            merged[key] += value\n",
    "        else:\n",
    "            merged[key] = value\n",
    "    return merged\n",
    "\n",
    "dict1 = eval(input(\"Enter the first dictionary: \"))\n",
    "print(f\"dic1 is{dict1}\")\n",
    "dict2 = eval(input(\"Enter the second dictionary: \"))\n",
    "print(f\"dic2 is{dict2}\")\n",
    "\n",
    "merged_dict = merge_dicts(dict1, dict2)\n",
    "\n",
    "print(merged_dict)\n"
   ]
  },
  {
   "cell_type": "markdown",
   "metadata": {},
   "source": [
    "33. Write a code to access a value in a nested dictionary. The function should take the dictionary and a list of keys as input, and return the corresponding value. If any of the keys do not exist in the dictionary, the function should return None."
   ]
  },
  {
   "cell_type": "code",
   "execution_count": 42,
   "metadata": {},
   "outputs": [
    {
     "name": "stdout",
     "output_type": "stream",
     "text": [
      "The value is: 42\n"
     ]
    }
   ],
   "source": [
    "def get_nested_value(d, keys):\n",
    "    for key in keys:\n",
    "        if isinstance(d, dict) and key in d:\n",
    "            d = d[key]\n",
    "        else:\n",
    "            return None\n",
    "    return d\n",
    "\n",
    "nested_dict = {\n",
    "    'a': {\n",
    "        'b': {\n",
    "            'c': 42,\n",
    "        }\n",
    "    }\n",
    "}\n",
    "keys = ['a', 'b', 'c']\n",
    "\n",
    "value = get_nested_value(nested_dict, keys)\n",
    "print(\"The value is:\", value)\n"
   ]
  },
  {
   "cell_type": "markdown",
   "metadata": {},
   "source": [
    "34. Write a code that takes a dictionary as input and returns a sorted version of it based on the values. You can choose whether to sort in ascending or descending order."
   ]
  },
  {
   "cell_type": "code",
   "execution_count": 43,
   "metadata": {},
   "outputs": [
    {
     "name": "stdout",
     "output_type": "stream",
     "text": [
      "Sorted dictionary: {'banana': 5, 'apple': 10, 'cherry': 20}\n"
     ]
    }
   ],
   "source": [
    "def sort_dict(d):\n",
    "    return dict(sorted(d.items(), key=lambda item: item[1], reverse=False))\n",
    "\n",
    "dictionary = {\n",
    "    'apple': 10,\n",
    "    'banana': 5,\n",
    "    'cherry': 20\n",
    "}\n",
    "\n",
    "sorted_dict = sort_dict(dictionary)\n",
    "print(\"Sorted dictionary asscending:\", sorted_dict)\n"
   ]
  },
  {
   "cell_type": "markdown",
   "metadata": {},
   "source": [
    "35. Write a code that inverts a dictionary, swapping keys and values. Ensure that the inverted dictionary correctly handles cases where multiple keys have the same value by storing the keys as a list in the inverted dictionary."
   ]
  },
  {
   "cell_type": "code",
   "execution_count": 45,
   "metadata": {},
   "outputs": [
    {
     "name": "stdout",
     "output_type": "stream",
     "text": [
      "Inverted dictionary: {1: ['a', 'c'], 2: ['b']}\n"
     ]
    }
   ],
   "source": [
    "def invert_dict(d):\n",
    "    inverted = {}\n",
    "    for key, value in d.items():\n",
    "        if value in inverted:\n",
    "            inverted[value].append(key)\n",
    "        else:\n",
    "            inverted[value] = [key]\n",
    "    return inverted\n",
    "\n",
    "dictionary = {\n",
    "    'a': 1,\n",
    "    'b': 2,\n",
    "    'c': 1\n",
    "}\n",
    "\n",
    "inverted_dict = invert_dict(dictionary)\n",
    "print(\"Inverted dictionary:\", inverted_dict)\n"
   ]
  },
  {
   "cell_type": "code",
   "execution_count": null,
   "metadata": {},
   "outputs": [],
   "source": []
  }
 ],
 "metadata": {
  "kernelspec": {
   "display_name": "Python 3",
   "language": "python",
   "name": "python3"
  },
  "language_info": {
   "codemirror_mode": {
    "name": "ipython",
    "version": 3
   },
   "file_extension": ".py",
   "mimetype": "text/x-python",
   "name": "python",
   "nbconvert_exporter": "python",
   "pygments_lexer": "ipython3",
   "version": "3.11.2"
  }
 },
 "nbformat": 4,
 "nbformat_minor": 2
}
